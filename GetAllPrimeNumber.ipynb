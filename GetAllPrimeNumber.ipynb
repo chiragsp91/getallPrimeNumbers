{
 "cells": [
  {
   "cell_type": "code",
   "execution_count": 122,
   "metadata": {},
   "outputs": [],
   "source": [
    "def getallPrimeNumbers(num):\n",
    "    '''A function to find all prime numbers till the number specified'''\n",
    "    prime_num = set()\n",
    "    prime_num.add(2)\n",
    "    i = 2\n",
    "    while(i<num):\n",
    "        j=2 \n",
    "        val = True\n",
    "        while(j<i):    \n",
    "            if(i%j == 0 and j!=i):\n",
    "                val = False\n",
    "            j = j +1\n",
    "        \n",
    "        if(val):\n",
    "            prime_num.add(i)\n",
    "            \n",
    "        i = i +1\n",
    "    \n",
    "    for p in sorted(prime_num):\n",
    "        print p"
   ]
  }
 ],
 "metadata": {
  "kernelspec": {
   "display_name": "Python 2",
   "language": "python",
   "name": "python2"
  },
  "language_info": {
   "codemirror_mode": {
    "name": "ipython",
    "version": 2
   },
   "file_extension": ".py",
   "mimetype": "text/x-python",
   "name": "python",
   "nbconvert_exporter": "python",
   "pygments_lexer": "ipython2",
   "version": "2.7.13"
  }
 },
 "nbformat": 4,
 "nbformat_minor": 2
}
